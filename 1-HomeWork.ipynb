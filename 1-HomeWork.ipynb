{
 "cells": [
  {
   "cell_type": "code",
   "execution_count": 1,
   "metadata": {},
   "outputs": [],
   "source": [
    "import numpy as np\n",
    "import matplotlib.pyplot as plt\n",
    "from mpl_toolkits.mplot3d.axes3d import Axes3D"
   ]
  },
  {
   "cell_type": "code",
   "execution_count": 7,
   "metadata": {},
   "outputs": [],
   "source": [
    "def calc_mae(y, y_pred):\n",
    "    err = np.mean(np.abs(y - y_pred))\n",
    "    return err\n",
    "\n",
    "def calc_mse(y, y_pred):\n",
    "    err = np.mean((y - y_pred)**2)\n",
    "    return err"
   ]
  },
  {
   "cell_type": "code",
   "execution_count": 3,
   "metadata": {},
   "outputs": [],
   "source": [
    "X = np.array([[ 1,  1],\n",
    "              [ 1,  1],\n",
    "              [ 1,  2],\n",
    "              [ 1,  5],\n",
    "              [ 1,  3],\n",
    "              [ 1,  0],\n",
    "              [ 1,  5],\n",
    "              [ 1, 10],\n",
    "              [ 1,  1],\n",
    "              [ 1,  2]])"
   ]
  },
  {
   "cell_type": "code",
   "execution_count": 5,
   "metadata": {},
   "outputs": [],
   "source": [
    "y = [45, 55, 50, 55, 60, 35, 75, 80, 50, 60]"
   ]
  },
  {
   "cell_type": "markdown",
   "metadata": {},
   "source": [
    "## 1 Задание"
   ]
  },
  {
   "cell_type": "code",
   "execution_count": 24,
   "metadata": {},
   "outputs": [
    {
     "name": "stdout",
     "output_type": "stream",
     "text": [
      "Number of objects = 10        \n",
      "Learning rate = 0.04        \n",
      "Initial weights = [1.  0.5] \n",
      "\n",
      "Iteration #0: W_new = [ 5.32 15.58], MSE = 3047.75\n",
      "Iteration #10: W_new = [16.59499802  8.97472793], MSE = 453.63\n",
      "Iteration #20: W_new = [24.72870903  7.49971948], MSE = 252.26\n",
      "Iteration #30: W_new = [30.30005177  6.48944238], MSE = 153.4\n",
      "Iteration #40: W_new = [34.17765442  5.78629892], MSE = 103.28\n",
      "Iteration #50: W_new = [36.91770492  5.28943301], MSE = 77.08\n",
      "Iteration #60: W_new = [38.88206789  4.93322607], MSE = 62.98\n",
      "Iteration #70: W_new = [40.30979519  4.67432974], MSE = 55.18\n",
      "Iteration #80: W_new = [41.36112048  4.48368811], MSE = 50.75\n",
      "Iteration #90: W_new = [42.14494697  4.34155326], MSE = 48.17\n",
      "Iteration #100: W_new = [42.73627752  4.23432458], MSE = 46.64\n",
      "Iteration #110: W_new = [43.18742443  4.15251604], MSE = 45.7\n",
      "Iteration #120: W_new = [43.53531706  4.08943108], MSE = 45.11\n",
      "Iteration #130: W_new = [43.80632755  4.04028751], MSE = 44.74\n",
      "Iteration #140: W_new = [44.01949748  4.00163243], MSE = 44.5\n",
      "Iteration #150: W_new = [44.18872101  3.97094635], MSE = 44.34\n",
      "Iteration #160: W_new = [44.32423887  3.94637227], MSE = 44.23\n",
      "Iteration #170: W_new = [44.43367206  3.92652825], MSE = 44.16\n",
      "Iteration #180: W_new = [44.52274442  3.91037635], MSE = 44.11\n",
      "Iteration #190: W_new = [44.59579299  3.89713012], MSE = 44.07\n",
      "Iteration #200: W_new = [44.65613181  3.88618861], MSE = 44.05\n",
      "Iteration #210: W_new = [44.70631378  3.87708888], MSE = 44.03\n",
      "Iteration #220: W_new = [44.74832072  3.86947157], MSE = 44.02\n",
      "Iteration #230: W_new = [44.78370258  3.86305561], MSE = 44.01\n",
      "Iteration #240: W_new = [44.81368019  3.85761964], MSE = 44.0\n",
      "Iteration #250: W_new = [44.8392217   3.85298808], MSE = 43.99\n",
      "Iteration #260: W_new = [44.86109994  3.8490208 ], MSE = 43.99\n",
      "Iteration #270: W_new = [44.87993568  3.84560522], MSE = 43.98\n",
      "Iteration #280: W_new = [44.89623059  3.84265039], MSE = 43.98\n",
      "Iteration #290: W_new = [44.91039238  3.84008237], MSE = 43.98\n",
      "Iteration #300: W_new = [44.92275431  3.83784073], MSE = 43.98\n",
      "Iteration #310: W_new = [44.9335902  3.8358758], MSE = 43.98\n",
      "Iteration #320: W_new = [44.94312619  3.8341466 ], MSE = 43.98\n",
      "Iteration #330: W_new = [44.95154998  3.83261908], MSE = 43.97\n",
      "Iteration #340: W_new = [44.9590181   3.83126485], MSE = 43.97\n",
      "Iteration #350: W_new = [44.96566167  3.83006014], MSE = 43.97\n",
      "Iteration #360: W_new = [44.97159102  3.82898494], MSE = 43.97\n",
      "Iteration #370: W_new = [44.97689938  3.82802235], MSE = 43.97\n",
      "Iteration #380: W_new = [44.98166585  3.82715803], MSE = 43.97\n",
      "Iteration #390: W_new = [44.9859578   3.82637975], MSE = 43.97\n",
      "Iteration #400: W_new = [44.98983283  3.82567707], MSE = 43.97\n",
      "Iteration #410: W_new = [44.99334038  3.82504103], MSE = 43.97\n",
      "Iteration #420: W_new = [44.996523    3.82446391], MSE = 43.97\n",
      "Iteration #430: W_new = [44.9994175   3.82393904], MSE = 43.97\n",
      "Iteration #440: W_new = [45.00205574  3.82346063], MSE = 43.97\n",
      "Iteration #450: W_new = [45.00446546  3.82302367], MSE = 43.97\n",
      "Iteration #460: W_new = [45.00667085  3.82262376], MSE = 43.97\n",
      "Iteration #470: W_new = [45.00869307  3.82225706], MSE = 43.97\n",
      "Iteration #480: W_new = [45.0105507  3.8219202], MSE = 43.97\n",
      "Iteration #490: W_new = [45.01226007  3.82161024], MSE = 43.97\n"
     ]
    }
   ],
   "source": [
    "n = X.shape[0]\n",
    "\n",
    "eta = 4e-2 \n",
    "n_iter = 500\n",
    "\n",
    "W = np.array([1, 0.5])\n",
    "print(f'Number of objects = {n} \\\n",
    "       \\nLearning rate = {eta} \\\n",
    "       \\nInitial weights = {W} \\n')\n",
    "\n",
    "for i in range(n_iter):\n",
    "    y_pred = np.dot(X, W)\n",
    "    err = calc_mse(y, y_pred)\n",
    "    for k in range(W.shape[0]):\n",
    "        W[k] -= eta * (1/n * 2 * X[:, k] @ (y_pred - y))\n",
    "    if i % 10 == 0:\n",
    "        eta /= 1.05\n",
    "        print(f'Iteration #{i}: W_new = {W}, MSE = {round(err, 2)}')"
   ]
  },
  {
   "cell_type": "raw",
   "metadata": {},
   "source": [
    "Увеличил количество итераций.\n",
    "Попробовал шаг ошибки изменить на 2, 3, 4е-2. Лучший вариант последний 44,5. MSE на последних 30 шагах значительно не изменяется.\n",
    "Если изменить коэффициент коррекции шага, то за то же количество итераций достигается лучший результат - 43,97"
   ]
  },
  {
   "cell_type": "code",
   "execution_count": null,
   "metadata": {},
   "outputs": [],
   "source": []
  },
  {
   "cell_type": "markdown",
   "metadata": {},
   "source": [
    "## 2 Задание"
   ]
  },
  {
   "cell_type": "code",
   "execution_count": 23,
   "metadata": {},
   "outputs": [
    {
     "name": "stdout",
     "output_type": "stream",
     "text": [
      "Number of objects = 10        \n",
      "Learning rate = 0.01        \n",
      "Initial weights = [1.  0.5] \n",
      "\n",
      "Iteration #0: W_new = [2.08 4.27], MSE = 3047.75\n",
      "Iteration #10: W_new = [ 7.0011236 10.6169007], MSE = 738.65\n",
      "Iteration #20: W_new = [10.3486292  10.10603105], MSE = 622.03\n",
      "Iteration #30: W_new = [13.38789582  9.55618391], MSE = 525.24\n",
      "Iteration #40: W_new = [16.16088505  9.05336203], MSE = 444.66\n",
      "Iteration #50: W_new = [18.69110735  8.59454545], MSE = 377.58\n",
      "Iteration #60: W_new = [20.99981865  8.17589626], MSE = 321.72\n",
      "Iteration #70: W_new = [23.10641138  7.79389815], MSE = 275.22\n",
      "Iteration #80: W_new = [25.02858024  7.44534246], MSE = 236.5\n",
      "Iteration #90: W_new = [26.78247081  7.12730145], MSE = 204.27\n"
     ]
    }
   ],
   "source": [
    "n = X.shape[0]\n",
    "\n",
    "eta = 1e-2 \n",
    "n_iter = 100\n",
    "\n",
    "W = np.array([1, 0.5])\n",
    "print(f'Number of objects = {n} \\\n",
    "       \\nLearning rate = {eta} \\\n",
    "       \\nInitial weights = {W} \\n')\n",
    "\n",
    "for i in range(n_iter):\n",
    "    y_pred = np.dot(X, W)\n",
    "    err = calc_mse(y, y_pred)\n",
    "#     for k in range(W.shape[0]):\n",
    "#         W[k] -= eta * (1/n * 2 * X[:, k] @ (y_pred - y))\n",
    "    # ИЗМЕНЕНИЯ\n",
    "    W -= eta * (1/n * 2 * np.dot(X.T, y_pred - y))\n",
    "    # ИЗМЕНЕНИЯ\n",
    "    #\n",
    "    if i % 10 == 0:\n",
    "        print(f'Iteration #{i}: W_new = {W}, MSE = {round(err,2)}')"
   ]
  },
  {
   "cell_type": "code",
   "execution_count": null,
   "metadata": {},
   "outputs": [],
   "source": [
    "При вычислении градиента нужно использовать транспонированную матрицу Х."
   ]
  },
  {
   "cell_type": "code",
   "execution_count": null,
   "metadata": {},
   "outputs": [],
   "source": []
  },
  {
   "cell_type": "code",
   "execution_count": 41,
   "metadata": {},
   "outputs": [
    {
     "name": "stdout",
     "output_type": "stream",
     "text": [
      "Number of objects = 10        \n",
      "Learning rate = 0.01        \n",
      "Initial weights = [1.  0.5] \n",
      "\n",
      "Iteration #0: W_new = [2.08 4.27], MSE = 3047.75\n",
      "3.921645062980585\n",
      "Iteration #30: W_new = [13.38789582  9.55618391], MSE = 525.24\n",
      "0.2962830004514919\n",
      "Iteration #60: W_new = [20.99981865  8.17589626], MSE = 321.72\n",
      "0.22508139532820182\n",
      "Iteration #90: W_new = [26.78247081  7.12730145], MSE = 204.27\n",
      "0.17099068954279603\n",
      "Iteration #120: W_new = [31.17545797  6.33070096], MSE = 136.48\n",
      "0.12989885666777493\n",
      "Iteration #150: W_new = [34.51273915  5.72553647], MSE = 97.36\n",
      "0.0986820569512495\n",
      "Iteration #180: W_new = [37.0480176   5.26580281], MSE = 74.78\n",
      "0.07496715994225459\n",
      "Iteration #210: W_new = [38.97402756  4.9165506 ], MSE = 61.75\n",
      "0.05695133688370928\n",
      "Iteration #240: W_new = [40.43718613  4.65122936], MSE = 54.23\n",
      "0.04326500797602368\n",
      "Iteration #270: W_new = [41.54872398  4.4496691 ], MSE = 49.89\n",
      "0.032867725633688775\n",
      "Iteration #300: W_new = [42.39314129  4.29654705], MSE = 47.39\n",
      "0.024969078682016872\n",
      "Iteration #330: W_new = [43.03463143  4.1802227 ], MSE = 45.94\n",
      "0.01896860455685692\n",
      "Iteration #360: W_new = [43.5219611   4.09185298], MSE = 45.11\n",
      "0.014410141576169861\n",
      "Iteration #390: W_new = [43.89217756  4.02471993], MSE = 44.63\n",
      "0.010947151100276697\n",
      "Iteration #420: W_new = [44.173425    3.97372004], MSE = 44.35\n",
      "0.008316373338794439\n",
      "Iteration #450: W_new = [44.38708413  3.93497626], MSE = 44.19\n",
      "0.006317814093971148\n",
      "Iteration #480: W_new = [44.5493975   3.90554323], MSE = 44.1\n",
      "0.004799541013843858\n",
      "Iteration #510: W_new = [44.67270435  3.88318343], MSE = 44.04\n",
      "0.003646133552043072\n",
      "Iteration #540: W_new = [44.76637856  3.86619706], MSE = 44.01\n",
      "0.0027699085893785986\n",
      "Iteration #570: W_new = [44.83754134  3.85329279], MSE = 43.99\n",
      "0.0021042546807460614\n",
      "Iteration #600: W_new = [44.89160255  3.84348962], MSE = 43.98\n",
      "0.0015985681904560113\n",
      "Iteration #630: W_new = [44.93267197  3.83604231], MSE = 43.98\n",
      "0.001214406356281061\n",
      "Iteration #660: W_new = [44.96387175  3.83038471], MSE = 43.97\n",
      "0.0009225648345707216\n",
      "Iteration #690: W_new = [44.98757372  3.82608673], MSE = 43.97\n",
      "0.000700857558576888\n",
      "Iteration #720: W_new = [45.00557972  3.82282162], MSE = 43.97\n",
      "0.0005324301328324169\n",
      "Last iteration 727\n"
     ]
    }
   ],
   "source": [
    "n = X.shape[0]\n",
    "eps = 5e-4\n",
    "eta = 1e-2 \n",
    "n_iter = 1000\n",
    "\n",
    "W = np.array([1, 0.5])\n",
    "print(f'Number of objects = {n} \\\n",
    "       \\nLearning rate = {eta} \\\n",
    "       \\nInitial weights = {W} \\n')\n",
    "\n",
    "for i in range(n_iter):\n",
    "    y_pred = np.dot(X, W)\n",
    "    err = calc_mse(y, y_pred)\n",
    "#     for k in range(W.shape[0]):\n",
    "#         W[k] -= eta * (1/n * 2 * X[:, k] @ (y_pred - y))\n",
    "    # ИЗМЕНЕНИЯ\n",
    "    new_W = W - eta * (1/n * 2 * np.dot(X.T, y_pred - y))\n",
    "    # ИЗМЕНЕНИЯ\n",
    "    weight_dist = np.linalg.norm(new_W - W, ord=2)\n",
    "    W = new_W\n",
    "    \n",
    "    if i % 30 == 0:\n",
    "        print(f'Iteration #{i}: W_new = {W}, MSE = {round(err,2)}')\n",
    "        print(weight_dist)\n",
    "        \n",
    "    if weight_dist < eps:\n",
    "        print(f'Last iteration {i}')\n",
    "        break    "
   ]
  },
  {
   "cell_type": "raw",
   "metadata": {},
   "source": [
    "Добавил вычисление разницы между коэффициентами и условие по выходу из цикла."
   ]
  },
  {
   "cell_type": "code",
   "execution_count": null,
   "metadata": {},
   "outputs": [],
   "source": []
  }
 ],
 "metadata": {
  "kernelspec": {
   "display_name": "Python 3",
   "language": "python",
   "name": "python3"
  },
  "language_info": {
   "codemirror_mode": {
    "name": "ipython",
    "version": 3
   },
   "file_extension": ".py",
   "mimetype": "text/x-python",
   "name": "python",
   "nbconvert_exporter": "python",
   "pygments_lexer": "ipython3",
   "version": "3.8.5"
  }
 },
 "nbformat": 4,
 "nbformat_minor": 4
}
