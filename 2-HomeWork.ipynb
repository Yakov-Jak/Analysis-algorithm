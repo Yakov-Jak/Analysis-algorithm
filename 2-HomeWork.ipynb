{
 "cells": [
  {
   "cell_type": "code",
   "execution_count": 2,
   "metadata": {},
   "outputs": [],
   "source": [
    "import numpy as np\n",
    "from sklearn import datasets\n",
    "import matplotlib.pyplot as plt\n",
    "from mpl_toolkits.mplot3d.axes3d import Axes3D"
   ]
  },
  {
   "cell_type": "markdown",
   "metadata": {},
   "source": [
    "## 1\n",
    "Постройте график зависимости весов всех признаков от lambda в самописной L2-регуляризации (на данных про ЕГЭ). Сделайте вывод."
   ]
  },
  {
   "cell_type": "code",
   "execution_count": 3,
   "metadata": {},
   "outputs": [],
   "source": [
    "from sklearn.linear_model import Ridge\n"
   ]
  },
  {
   "cell_type": "code",
   "execution_count": 4,
   "metadata": {},
   "outputs": [],
   "source": [
    "X = np.array([[   1,    1,  500,    1],\n",
    "              [   1,    1,  700,    1],\n",
    "              [   1,    2,  750,    2],\n",
    "              [   1,    5,  600,    1],\n",
    "              [   1,    3, 1450,    2],\n",
    "              [   1,    0,  800,    1],\n",
    "              [   1,    5, 1500,    3],\n",
    "              [   1,   10, 2000,    3],\n",
    "              [   1,    1,  450,    1],\n",
    "              [   1,    2, 1000,    2]])"
   ]
  },
  {
   "cell_type": "code",
   "execution_count": 5,
   "metadata": {},
   "outputs": [],
   "source": [
    "y = [45, 55, 50, 55, 60, 35, 75, 80, 50, 60]"
   ]
  },
  {
   "cell_type": "code",
   "execution_count": 6,
   "metadata": {},
   "outputs": [],
   "source": [
    "def standard_scale(X):\n",
    "    mean = X.mean()\n",
    "    std = X.std()\n",
    "    return (X - mean) / std"
   ]
  },
  {
   "cell_type": "code",
   "execution_count": 7,
   "metadata": {},
   "outputs": [],
   "source": [
    "def calc_mse(y, y_pred):\n",
    "    err = np.mean((y - y_pred)**2)\n",
    "    return err"
   ]
  },
  {
   "cell_type": "code",
   "execution_count": 8,
   "metadata": {},
   "outputs": [
    {
     "data": {
      "text/plain": [
       "array([[ 1.        , -0.70710678, -0.97958969, -0.89625816],\n",
       "       [ 1.        , -0.70710678, -0.56713087, -0.89625816],\n",
       "       [ 1.        , -0.35355339, -0.46401617,  0.38411064],\n",
       "       [ 1.        ,  0.70710678, -0.77336028, -0.89625816],\n",
       "       [ 1.        ,  0.        ,  0.97958969,  0.38411064],\n",
       "       [ 1.        , -1.06066017, -0.36090146, -0.89625816],\n",
       "       [ 1.        ,  0.70710678,  1.08270439,  1.66447944],\n",
       "       [ 1.        ,  2.47487373,  2.11385144,  1.66447944],\n",
       "       [ 1.        , -0.70710678, -1.08270439, -0.89625816],\n",
       "       [ 1.        , -0.35355339,  0.05155735,  0.38411064]])"
      ]
     },
     "execution_count": 8,
     "metadata": {},
     "output_type": "execute_result"
    }
   ],
   "source": [
    "X_st = X.copy().astype(np.float64)\n",
    "X_st[:, 1] = standard_scale(X_st[:, 1])\n",
    "X_st[:, 2] = standard_scale(X_st[:, 2])\n",
    "X_st[:, 3] = standard_scale(X_st[:, 3])\n",
    "\n",
    "X_st"
   ]
  },
  {
   "cell_type": "code",
   "execution_count": 9,
   "metadata": {},
   "outputs": [],
   "source": [
    "def gradient_descent_reg_l2(X, y, iterations, reg, eta=1e-4):\n",
    "    W = np.random.randn(X.shape[1])\n",
    "    n = X.shape[0]\n",
    "    \n",
    "    for i in range(0, iterations):\n",
    "        y_pred = np.dot(X, W)\n",
    "        err = calc_mse(y, y_pred)\n",
    "        \n",
    "        dQ = 2/n * X.T @ (y_pred - y) # градиент функции ошибки\n",
    "        dReg = reg * W # градиент регуляризации\n",
    "        \n",
    "        W -= eta * (dQ + dReg)\n",
    "    \n",
    "    print(f'Final MSE: {calc_mse(y, np.dot(X, W))}')\n",
    "\n",
    "    return W"
   ]
  },
  {
   "cell_type": "code",
   "execution_count": 11,
   "metadata": {},
   "outputs": [
    {
     "name": "stdout",
     "output_type": "stream",
     "text": [
      "Final MSE: 24.938266566454967\n",
      "Final MSE: 24.96209719520878\n",
      "Final MSE: 24.96446661546361\n",
      "Final MSE: 24.999360336916332\n",
      "Final MSE: 25.1326705935648\n",
      "Final MSE: 25.310371881442293\n",
      "Final MSE: 26.13639497354232\n",
      "Final MSE: 28.798751460385553\n",
      "Final MSE: 36.9402853896665\n",
      "Final MSE: 60.99036668666147\n",
      "Final MSE: 126.45354485641842\n",
      "Final MSE: 282.87244711182916\n",
      "Final MSE: 592.5325538414087\n",
      "Final MSE: 1075.2702682989868\n",
      "Final MSE: 1655.90502801499\n",
      "Final MSE: 2205.386787306681\n",
      "Final MSE: 2634.587676510136\n",
      "Final MSE: 2926.890525642231\n",
      "Final MSE: 3108.793661370587\n",
      "Final MSE: 3215.845108956103\n"
     ]
    },
    {
     "data": {
      "text/plain": [
       "array([[56.47176402,  6.20734319,  0.07644505,  6.21767724],\n",
       "       [56.44826561,  6.17908095,  0.20216015,  6.11407557],\n",
       "       [56.40524422,  6.17474165,  0.18229717,  6.1349448 ],\n",
       "       [56.32655686,  6.15333064,  0.24929766,  6.0802631 ],\n",
       "       [56.18289302,  6.09443564,  0.49030939,  5.8778816 ],\n",
       "       [55.92145388,  6.10506295,  0.26395062,  6.07732993],\n",
       "       [55.44850493,  6.01360242,  0.45203219,  5.93210878],\n",
       "       [54.60205228,  5.84050186,  0.84823148,  5.61917784],\n",
       "       [53.11579362,  5.59957714,  1.27096043,  5.28545945],\n",
       "       [50.59160508,  5.25005438,  1.79774062,  4.84697956],\n",
       "       [46.53780861,  4.79229211,  2.30710938,  4.35835285],\n",
       "       [40.57800356,  4.24958816,  2.62150872,  3.88182499],\n",
       "       [32.86364602,  3.63329351,  2.66325342,  3.38185372],\n",
       "       [24.37103903,  2.95322844,  2.42383775,  2.81241291],\n",
       "       [16.53756091,  2.24203257,  1.97376672,  2.17660247],\n",
       "       [10.406433  ,  1.57163634,  1.44224968,  1.54632518],\n",
       "       [ 6.19593383,  1.01979123,  0.95838029,  1.01179252],\n",
       "       [ 3.55754085,  0.62150495,  0.59193627,  0.61967038],\n",
       "       [ 1.99802151,  0.36241508,  0.34773976,  0.36235728],\n",
       "       [ 1.10784314,  0.20547419,  0.19795963,  0.20576233]])"
      ]
     },
     "execution_count": 11,
     "metadata": {},
     "output_type": "execute_result"
    }
   ],
   "source": [
    "n = 20\n",
    "\n",
    "coeffs = np.zeros((n, X.shape[1])) \n",
    "lambdas = np.logspace(-3, 2, n)\n",
    "\n",
    "for i, val in enumerate(lambdas):\n",
    "    coeffs[i, :] = gradient_descent_reg_l2(X_st, y, iterations=1000, reg=val, eta=1e-2)\n",
    "# Находим серию коэффициентов при разных значениях лямбда\n",
    "coeffs"
   ]
  },
  {
   "cell_type": "code",
   "execution_count": 12,
   "metadata": {
    "scrolled": true
   },
   "outputs": [
    {
     "data": {
      "image/png": "[encoded data removed]",
      "text/plain": [
       "<Figure size 432x288 with 1 Axes>"
      ]
     },
     "metadata": {
      "needs_background": "light"
     },
     "output_type": "display_data"
    }
   ],
   "source": [
    "for i in range(X_st.shape[1]):\n",
    "    plt.plot(lambdas, coeffs[:, i])\n",
    "\n",
    "plt.title('Убывание абсолютных значений весов признаков\\n при увеличении коэффициента регуляризации alpha (Ridge)')\n",
    "plt.xticks(np.arange(0, 101, 10))\n",
    "plt.xlabel('alpha')\n",
    "plt.ylabel('Вес признака');"
   ]
  },
  {
   "cell_type": "raw",
   "metadata": {},
   "source": [
    "С увеличением коэффициента регуляризации гладко, но интенсивно уменьшаются веса. Соответственно в первые несколько шагов существенно возникает ошибка"
   ]
  },
  {
   "cell_type": "markdown",
   "metadata": {},
   "source": [
    "## 2\n",
    "Напишите функцию наподобие gradient_descent_reg_l2, но для применения L1-регуляризации."
   ]
  },
  {
   "cell_type": "code",
   "execution_count": 14,
   "metadata": {},
   "outputs": [],
   "source": [
    "def gradient_descent_reg_l1(X, y, iterations, reg, eta=1e-4):\n",
    "    W = np.random.randn(X.shape[1])\n",
    "    n = X.shape[0]\n",
    "    \n",
    "    for i in range(0, iterations):\n",
    "        y_pred = np.dot(X, W)\n",
    "        err = calc_mse(y, y_pred)\n",
    "        \n",
    "        dQ = 2/n * X.T @ (y_pred - y) # градиент функции ошибки\n",
    "        dReg = reg * np.sign(W) # градиент регуляризации\n",
    "        \n",
    "        W -= eta * (dQ + dReg)\n",
    "    \n",
    "    print(f'Final MSE: {calc_mse(y, np.dot(X, W))}')\n",
    "\n",
    "    return W"
   ]
  },
  {
   "cell_type": "raw",
   "metadata": {},
   "source": [
    "Производной модуля будет ступенчатая функция. 1 при положительном W и -1 при отрицательном. \n",
    "Подставляем это значение в функцию и получаем Л2 регуляризацию."
   ]
  },
  {
   "cell_type": "code",
   "execution_count": 15,
   "metadata": {},
   "outputs": [
    {
     "name": "stdout",
     "output_type": "stream",
     "text": [
      "Final MSE: 24.957472613923464\n",
      "Final MSE: 24.952433341993572\n",
      "Final MSE: 25.003700109756473\n",
      "Final MSE: 24.97757311686096\n",
      "Final MSE: 24.964259145041726\n",
      "Final MSE: 24.93594896823272\n",
      "Final MSE: 24.95570082555816\n",
      "Final MSE: 24.973312864107896\n",
      "Final MSE: 24.95170821730433\n",
      "Final MSE: 24.986029487093237\n",
      "Final MSE: 25.077260709237052\n",
      "Final MSE: 25.28665084629724\n",
      "Final MSE: 26.045163470380288\n",
      "Final MSE: 28.725267226661053\n",
      "Final MSE: 37.67385895103128\n",
      "Final MSE: 67.54726626616717\n",
      "Final MSE: 168.74814951565517\n",
      "Final MSE: 362.01246021673137\n",
      "Final MSE: 914.9136787092439\n",
      "Final MSE: 2638.990593032403\n"
     ]
    },
    {
     "data": {
      "text/plain": [
       "array([[ 5.64994999e+01,  6.18453116e+00,  1.92889953e-01,\n",
       "         6.12209271e+00],\n",
       "       [ 5.64990834e+01,  6.19140344e+00,  1.65500359e-01,\n",
       "         6.14308130e+00],\n",
       "       [ 5.64983200e+01,  6.14578682e+00,  3.93629493e-01,\n",
       "         5.95235130e+00],\n",
       "       [ 5.64969207e+01,  6.16450327e+00,  2.87389882e-01,\n",
       "         6.04157490e+00],\n",
       "       [ 5.64943557e+01,  6.16997938e+00,  2.26242006e-01,\n",
       "         6.09596285e+00],\n",
       "       [ 5.64896542e+01,  6.20408050e+00,  6.22400743e-02,\n",
       "         6.22582781e+00],\n",
       "       [ 5.64810365e+01,  6.17574305e+00,  1.73555998e-01,\n",
       "         6.12912202e+00],\n",
       "       [ 5.64652403e+01,  6.15068358e+00,  2.46315773e-01,\n",
       "         6.06051604e+00],\n",
       "       [ 5.64362862e+01,  6.16964937e+00,  8.89017974e-02,\n",
       "         6.17032472e+00],\n",
       "       [ 5.63832138e+01,  6.12876817e+00,  1.46293385e-01,\n",
       "         6.08987636e+00],\n",
       "       [ 5.62859333e+01,  6.05908543e+00,  2.15231950e-01,\n",
       "         5.97449643e+00],\n",
       "       [ 5.61076199e+01,  5.99734159e+00,  3.47140531e-02,\n",
       "         6.01400265e+00],\n",
       "       [ 5.57807750e+01,  5.81581832e+00,  1.66171131e-02,\n",
       "         5.86258302e+00],\n",
       "       [ 5.51816745e+01,  5.45962399e+00,  4.41635976e-03,\n",
       "         5.51851876e+00],\n",
       "       [ 5.40835348e+01,  4.79299431e+00,  8.85778474e-03,\n",
       "         4.89616587e+00],\n",
       "       [ 5.20706660e+01,  3.61107300e+00,  5.32702113e-02,\n",
       "         3.70097433e+00],\n",
       "       [ 4.83811162e+01,  1.46799924e+00,  9.60762909e-03,\n",
       "         1.54515908e+00],\n",
       "       [ 4.16182427e+01,  3.26890397e-01,  3.16717305e-01,\n",
       "         3.16032150e-01],\n",
       "       [ 2.92220260e+01, -2.83404302e-01,  1.43840173e-01,\n",
       "        -3.35775106e-01],\n",
       "       [ 6.49999999e+00,  7.29703934e-01, -3.13017907e-01,\n",
       "         6.00352204e-01]])"
      ]
     },
     "execution_count": 15,
     "metadata": {},
     "output_type": "execute_result"
    }
   ],
   "source": [
    "n = 20\n",
    "\n",
    "coeffs2 = np.zeros((n, X.shape[1])) \n",
    "lambdas = np.logspace(-3, 2, n)\n",
    "\n",
    "for i, val in enumerate(lambdas):\n",
    "    coeffs2[i, :] = gradient_descent_reg_l1(X_st, y, iterations=1000, reg=val, eta=1e-2)\n",
    "# Находим серию коэффициентов при разных значениях лямбда\n",
    "coeffs2"
   ]
  },
  {
   "cell_type": "code",
   "execution_count": 16,
   "metadata": {
    "scrolled": true
   },
   "outputs": [
    {
     "data": {
      "image/png": "[encoded data removed]",
      "text/plain": [
       "<Figure size 432x288 with 1 Axes>"
      ]
     },
     "metadata": {
      "needs_background": "light"
     },
     "output_type": "display_data"
    }
   ],
   "source": [
    "for i in range(X_st.shape[1]):\n",
    "    plt.plot(lambdas, coeffs2[:, i])\n",
    "\n",
    "plt.title('Убывание абсолютных значений весов признаков\\n при увеличении коэффициента регуляризации alpha (Ridge)')\n",
    "plt.xticks(np.arange(0, 101, 10))\n",
    "plt.xlabel('alpha')\n",
    "plt.ylabel('Вес признака');"
   ]
  },
  {
   "cell_type": "markdown",
   "metadata": {},
   "source": [
    "## 3  \n",
    "Можно ли к одному и тому же признаку применить сразу и нормализацию, и стандартизацию?"
   ]
  },
  {
   "cell_type": "raw",
   "metadata": {},
   "source": [
    "Можно, но это будет то же самое что применить только одно или только другое.\n",
    "Т.е. если применить сначала норм, затем станд. Изменится лишь масштаб. Можно сразу применить стандартизацию."
   ]
  },
  {
   "cell_type": "code",
   "execution_count": null,
   "metadata": {},
   "outputs": [],
   "source": []
  }
 ],
 "metadata": {
  "kernelspec": {
   "display_name": "Python 3",
   "language": "python",
   "name": "python3"
  },
  "language_info": {
   "codemirror_mode": {
    "name": "ipython",
    "version": 3
   },
   "file_extension": ".py",
   "mimetype": "text/x-python",
   "name": "python",
   "nbconvert_exporter": "python",
   "pygments_lexer": "ipython3",
   "version": "3.8.5"
  }
 },
 "nbformat": 4,
 "nbformat_minor": 4
}
